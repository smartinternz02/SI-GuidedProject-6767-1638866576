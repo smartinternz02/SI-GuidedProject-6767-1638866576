{
 "cells": [
  {
   "cell_type": "code",
   "execution_count": 9,
   "id": "1db2ea8a-43a6-46fa-ac54-af8be4195085",
   "metadata": {},
   "outputs": [
    {
     "data": {
      "text/plain": [
       "2401"
      ]
     },
     "execution_count": 9,
     "metadata": {},
     "output_type": "execute_result"
    }
   ],
   "source": [
    "pow(7,4)"
   ]
  },
  {
   "cell_type": "code",
   "execution_count": 10,
   "id": "e61eee35-6a2f-4bff-9eea-9363fb2da248",
   "metadata": {},
   "outputs": [
    {
     "name": "stdout",
     "output_type": "stream",
     "text": [
      "['Hi', 'there', 'Sam!']\n"
     ]
    }
   ],
   "source": [
    "s = \"Hi there Sam!\"\n",
    "print(s.split())"
   ]
  },
  {
   "cell_type": "code",
   "execution_count": 13,
   "id": "ac39553e-b7ae-4277-ae58-035bb926e10f",
   "metadata": {},
   "outputs": [
    {
     "name": "stdout",
     "output_type": "stream",
     "text": [
      "The diameter of Earth is 12742\n"
     ]
    }
   ],
   "source": [
    "planet = \"Earth\"\n",
    "diameter = 12742\n",
    "print(\"The diameter of {} is {}\".format(planet,diameter))"
   ]
  },
  {
   "cell_type": "code",
   "execution_count": 16,
   "id": "a9ec19f3-1887-4a37-ae54-e2517b87327e",
   "metadata": {},
   "outputs": [
    {
     "name": "stdout",
     "output_type": "stream",
     "text": [
      "['hello']\n"
     ]
    }
   ],
   "source": [
    "lst = [1,2,[3,4],[5,[100,200,['hello']],23,11],1,7]\n",
    "print(lst[3][1][2])"
   ]
  },
  {
   "cell_type": "code",
   "execution_count": 25,
   "id": "bd9635dd-1f1f-4d17-b4b5-04f8e23d64fa",
   "metadata": {},
   "outputs": [
    {
     "name": "stdout",
     "output_type": "stream",
     "text": [
      "hello\n"
     ]
    }
   ],
   "source": [
    "d = {'k1':[1,2,3,{'tricky':['oh','man','inception',{'target':[1,2,3,'hello']}]}]}\n",
    "print(d['k1'][3]['tricky'][3]['target'][3])"
   ]
  },
  {
   "cell_type": "code",
   "execution_count": 26,
   "id": "89ce1e0c-e5f6-45fc-8e2b-88737e37992e",
   "metadata": {},
   "outputs": [],
   "source": [
    "# A tuple is immutable\n",
    "# A list is mutable"
   ]
  },
  {
   "cell_type": "code",
   "execution_count": null,
   "id": "1536b373-7a93-4767-9e60-e1ecd5956df1",
   "metadata": {},
   "outputs": [
    {
     "name": "stdin",
     "output_type": "stream",
     "text": [
      "Enter website user@domain.com\n"
     ]
    },
    {
     "name": "stdout",
     "output_type": "stream",
     "text": [
      "domain.com\n"
     ]
    }
   ],
   "source": [
    "def fun():\n",
    "    stri=input(\"Enter website\")\n",
    "    s=stri.split('@')\n",
    "    print(s[1])\n",
    "fun()"
   ]
  },
  {
   "cell_type": "code",
   "execution_count": 34,
   "id": "ee8b7af9-1eba-4e8e-b8b6-397f089a09f5",
   "metadata": {},
   "outputs": [
    {
     "name": "stdin",
     "output_type": "stream",
     "text": [
      "Enter string Hy dog\n"
     ]
    },
    {
     "name": "stdout",
     "output_type": "stream",
     "text": [
      "True\n"
     ]
    }
   ],
   "source": [
    "def find():\n",
    "    st=input(\"Enter string\").lower()\n",
    "    if('dog' in st):\n",
    "        print(\"True\")\n",
    "    else:\n",
    "        print(\"False\")\n",
    "find()"
   ]
  },
  {
   "cell_type": "code",
   "execution_count": 35,
   "id": "cc654a92-1b87-4f91-a885-7ff492acb8a8",
   "metadata": {},
   "outputs": [
    {
     "name": "stdin",
     "output_type": "stream",
     "text": [
      "Enter string How are you\n"
     ]
    },
    {
     "name": "stdout",
     "output_type": "stream",
     "text": [
      "False\n"
     ]
    }
   ],
   "source": [
    "find()"
   ]
  },
  {
   "cell_type": "code",
   "execution_count": 36,
   "id": "a772864f-eca6-41c6-b3ec-322e204200f3",
   "metadata": {},
   "outputs": [
    {
     "name": "stdout",
     "output_type": "stream",
     "text": [
      "['soup', 'salad']\n"
     ]
    }
   ],
   "source": [
    "seq = ['soup','dog','salad','cat','great']\n",
    "s=list(filter(lambda i:i.startswith('s'),seq))\n",
    "print(s)"
   ]
  },
  {
   "cell_type": "code",
   "execution_count": null,
   "id": "a92430c1-9690-486c-b880-60c3cd957ed9",
   "metadata": {},
   "outputs": [
    {
     "name": "stdin",
     "output_type": "stream",
     "text": [
      "Enter speed 75\n"
     ]
    }
   ],
   "source": [
    "a=int(input(\"Enter speed\"))\n",
    "b=input(\"Is your brdy:\")\n",
    "def speed(a,b):\n",
    "    if b:\n",
    "        a=a+5\n",
    "        if a<=61:\n",
    "            print(\"No ticket\")\n",
    "        elif a>61 and a<80:\n",
    "            print(\"Small ticket\")\n",
    "        else:\n",
    "            print(\"Big ticket\")\n",
    "speed(a,b) "
   ]
  },
  {
   "cell_type": "code",
   "execution_count": null,
   "id": "36cfd498-b34c-4344-8ad8-32ce96762d0b",
   "metadata": {},
   "outputs": [],
   "source": []
  }
 ],
 "metadata": {
  "kernelspec": {
   "display_name": "Python 3",
   "language": "python",
   "name": "python3"
  },
  "language_info": {
   "codemirror_mode": {
    "name": "ipython",
    "version": 3
   },
   "file_extension": ".py",
   "mimetype": "text/x-python",
   "name": "python",
   "nbconvert_exporter": "python",
   "pygments_lexer": "ipython3",
   "version": "3.7.8"
  }
 },
 "nbformat": 4,
 "nbformat_minor": 5
}
